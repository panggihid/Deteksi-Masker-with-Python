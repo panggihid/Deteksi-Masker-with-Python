{
 "cells": [
  {
   "cell_type": "code",
   "execution_count": 1,
   "metadata": {},
   "outputs": [
    {
     "name": "stdout",
     "output_type": "stream",
     "text": [
      "\n",
      " [Melakukan Training Wajah. Memerlukan waktu. Tunggu...\n",
      "\n",
      " [INFO] 2 Wajah Sudah di training. Keluar Program \n"
     ]
    }
   ],
   "source": [
    "import cv2,os, numpy as np\n",
    "from PIL import Image\n",
    "\n",
    "path = 'C:/Users/USER/UAS SISTEM CERDAS/Deteksi Masker/dataset'\n",
    "recognizer = cv2.face.LBPHFaceRecognizer_create()\n",
    "detector = cv2.CascadeClassifier(\"haarcascade_frontalface_default.xml\");\n",
    "\n",
    "# Function mendapatkan gambar dan label data\n",
    "def getImagesAndLabels(path):\n",
    "    imagePaths = [os.path.join(path,f) for f in os.listdir(path)]     \n",
    "    faceSamples=[]\n",
    "    ids = []\n",
    "    for imagePath in imagePaths:\n",
    "        PIL_img = Image.open(imagePath).convert('L') # Mengubah ke Grayscale\n",
    "        img_numpy = np.array(PIL_img,'uint8')\n",
    "        id = int(os.path.split(imagePath)[-1].split(\".\")[1])\n",
    "        faces = detector.detectMultiScale(img_numpy)\n",
    "        for (x,y,w,h) in faces:\n",
    "            faceSamples.append(img_numpy[y:y+h,x:x+w])\n",
    "            ids.append(id)\n",
    "\n",
    "    return faceSamples,ids\n",
    "\n",
    "print (\"\\n [Melakukan Training Wajah. Memerlukan waktu. Tunggu...\")\n",
    "faces,ids = getImagesAndLabels(path)\n",
    "recognizer.train(faces, np.array(ids))\n",
    "\n",
    "# Menyimpan model pada trainer/trainer.yml\n",
    "recognizer.write('trainer.yml') # recognizer.save() worked pada Mac\n",
    "\n",
    "# Menampilkan jumlah wajah yang di training dan mengeluarkan program\n",
    "print(\"\\n [INFO] {0} Wajah Sudah di training. Keluar Program \".format(len(np.unique(ids))))"
   ]
  },
  {
   "cell_type": "code",
   "execution_count": 2,
   "metadata": {},
   "outputs": [
    {
     "name": "stdout",
     "output_type": "stream",
     "text": [
      "\n",
      " [INFO] Keluar Program\n"
     ]
    }
   ],
   "source": [
    "import cv2,os,numpy as np\n",
    "import winsound\n",
    "\n",
    "recognizer = cv2.face.LBPHFaceRecognizer_create()\n",
    "recognizer.read('trainer.yml')\n",
    "faceCascade = cv2.CascadeClassifier(\"haarcascade_frontalface_default.xml\");\n",
    "font = cv2.FONT_HERSHEY_SIMPLEX\n",
    "id = 0  #inisisasi hitungan id\n",
    "names = ['none','Dengan Masker', 'Tidak Menggunakan Masker'] # nama yang berelasi dengan id : contoh ==> Dengan Masker: id=1\n",
    "cam = cv2.VideoCapture(0) # Memulai Capture Video Realtime\n",
    "cam.set(3, 640) # set lebar video\n",
    "cam.set(4, 480) # set tinggi video\n",
    "# Mendefinisikan ukuran window minimal untuk dideteksi sebagai wajah\n",
    "minW = 0.1*cam.get(3)\n",
    "minH = 0.1*cam.get(4)\n",
    "while True:\n",
    "    ret, img =cam.read()\n",
    "    img = cv2.flip(img, 1) # Flip vertically\n",
    "    gray = cv2.cvtColor(img,cv2.COLOR_BGR2GRAY)\n",
    "    faces = faceCascade.detectMultiScale( gray, scaleFactor = 1.2, minNeighbors = 5, minSize = (int(minW), int(minH)),)\n",
    "    for(x,y,w,h) in faces:\n",
    "        cv2.rectangle(img, (x,y), (x+w,y+h), (255,0,255),2)\n",
    "        id, confidence = recognizer.predict(gray[y:y+h,x:x+w])\n",
    "        # Mengecek confidence lebih kecil dari 100 ==> nilai \"0\" cocok sempurna \n",
    "        if (confidence < 100):\n",
    "            winsound.PlaySound('sirine.wav', winsound.SND_FILENAME)\n",
    "            id = names[id]\n",
    "        else:\n",
    "            id = \"Tak Dikenal\"\n",
    "            confidence = \"  {0}%\".format(round(100 - confidence))\n",
    "        cv2.putText(img, str(id), (x+5,y-5), font, 1, (0,255,255), 2)\n",
    "    cv2.imshow('Deteksi Tanpa Masker',img) \n",
    "    k = cv2.waitKey(10) & 0xff # Tekan 'ESC' Untuk Menutup Aplikasi\n",
    "    if k == 27:\n",
    "        break\n",
    "print(\"\\n [INFO] Keluar Program\")\n",
    "cam.release()\n",
    "cv2.destroyAllWindows()\n"
   ]
  },
  {
   "cell_type": "code",
   "execution_count": null,
   "metadata": {},
   "outputs": [],
   "source": []
  }
 ],
 "metadata": {
  "kernelspec": {
   "display_name": "Python 3",
   "language": "python",
   "name": "python3"
  },
  "language_info": {
   "codemirror_mode": {
    "name": "ipython",
    "version": 3
   },
   "file_extension": ".py",
   "mimetype": "text/x-python",
   "name": "python",
   "nbconvert_exporter": "python",
   "pygments_lexer": "ipython3",
   "version": "3.8.1"
  }
 },
 "nbformat": 4,
 "nbformat_minor": 4
}
